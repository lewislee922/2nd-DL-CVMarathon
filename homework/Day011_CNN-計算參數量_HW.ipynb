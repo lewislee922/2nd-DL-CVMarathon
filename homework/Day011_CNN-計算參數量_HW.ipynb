{
 "cells": [
  {
   "cell_type": "markdown",
   "metadata": {
    "colab_type": "text",
    "id": "f6jN0Y8x4gNA"
   },
   "source": [
    "## 『本次練習內容』\n",
    "#### 運用Keras搭建簡單的Dense Layer與 Convolution2D Layer，使用相同Neurons數量，計算總參數量相差多少。\n"
   ]
  },
  {
   "cell_type": "markdown",
   "metadata": {},
   "source": [
    "## 『本次練習目的』\n",
    "  #### 本次練習主要是要讓各位同學們了解CNN與FC層的參數使用量差異\n",
    "  #### Convolution2D有許多參數可以設置，之後章節會細談\n",
    "  #### 不熟Keras的學員們也可以藉此了解NN層的不同搭法"
   ]
  },
  {
   "cell_type": "code",
   "execution_count": 1,
   "metadata": {
    "colab": {},
    "colab_type": "code",
    "id": "SAFr7hM24gNB"
   },
   "outputs": [
    {
     "output_type": "stream",
     "name": "stderr",
     "text": "Using TensorFlow backend.\n"
    }
   ],
   "source": [
    "from keras.models import Sequential\n",
    "from keras.layers import Convolution2D\n",
    "from keras.layers import Input, Dense\n",
    "from keras.models import Model"
   ]
  },
  {
   "cell_type": "code",
   "execution_count": 11,
   "metadata": {},
   "outputs": [
    {
     "output_type": "stream",
     "name": "stdout",
     "text": "Model: \"sequential_10\"\n_________________________________________________________________\nLayer (type)                 Output Shape              Param #   \n=================================================================\nconv2d_9 (Conv2D)            (None, 26, 26, 32)        320       \n=================================================================\nTotal params: 320\nTrainable params: 320\nNon-trainable params: 0\n_________________________________________________________________\nNone\nModel: \"model_4\"\n_________________________________________________________________\nLayer (type)                 Output Shape              Param #   \n=================================================================\ninput_5 (InputLayer)         (None, 784)               0         \n_________________________________________________________________\ndense_5 (Dense)              (None, 288)               226080    \n=================================================================\nTotal params: 226,080\nTrainable params: 226,080\nNon-trainable params: 0\n_________________________________________________________________\nNone\n"
    },
    {
     "output_type": "execute_result",
     "data": {
      "text/plain": "'理解輸出Total params為何==226080'"
     },
     "metadata": {},
     "execution_count": 11
    }
   ],
   "source": [
    "##輸入照片尺寸==28*28*1\n",
    "##都用一層，288個神經元\n",
    "\n",
    "##建造一個一層的CNN層\n",
    "classifier=Sequential()\n",
    "\n",
    "##Kernel size 3*3，用32張，輸入大小28*28*1\n",
    "classifier.add(Convolution2D(filters=32,input_shape=(28,28,1), kernel_size=(3,3)))\n",
    "'''32張Kernel，大小為3*3，輸入尺寸為28*28*1'''\n",
    "##看看model結構\n",
    "print(classifier.summary())\n",
    "'''理解輸出Total params為何==320'''\n",
    "\n",
    "##建造一個一層的FC層\n",
    "\n",
    "##輸入為28*28*1攤平==784\n",
    "inputs = Input(shape=(784,))\n",
    "'''輸入尺寸為28*28*1'''\n",
    "##CNN中用了(3*3*1)*32個神經元，我們這邊也用相同神經元數量\n",
    "x=Dense(units=288,input_shape=(28,28,1))(inputs)\n",
    "'''使用288個神經元'''\n",
    "model = Model(inputs=inputs, outputs=x)\n",
    "##看看model結構\n",
    "print(model.summary())\n",
    "'''理解輸出Total params為何==226080'''\n",
    "\n",
    "##大家可以自己變換設定看看參數變化"
   ]
  },
  {
   "cell_type": "code",
   "execution_count": 16,
   "metadata": {},
   "outputs": [
    {
     "output_type": "stream",
     "name": "stdout",
     "text": "Model: \"model_5\"\n_________________________________________________________________\nLayer (type)                 Output Shape              Param #   \n=================================================================\ninput_10 (InputLayer)        (None, 784)               0         \n_________________________________________________________________\ndense_10 (Dense)             (None, 288)               226080    \n=================================================================\nTotal params: 226,080\nTrainable params: 226,080\nNon-trainable params: 0\n_________________________________________________________________\nNone\n"
    },
    {
     "output_type": "execute_result",
     "data": {
      "text/plain": "'理解輸出Total params為何==226080'"
     },
     "metadata": {},
     "execution_count": 16
    }
   ],
   "source": [
    "##建造一個一層的FC層\n",
    "classifier=Sequential()\n",
    "##輸入為28*28*1攤平==784\n",
    "inputs = Input(shape=(784,))\n",
    "'''輸入尺寸為28*28*1'''\n",
    "##CNN中用了(3*3*1)*32個神經元，我們這邊也用相同神經元數量\n",
    "x= Dense(units=288, input_shape=(28,28,1))(inputs)\n",
    "'''使用288個神經元'''\n",
    "model = Model(inputs=inputs, outputs=x)\n",
    "##看看model結構\n",
    "print(model.summary())\n",
    "'''理解輸出Total params為何==226080'''"
   ]
  },
  {
   "cell_type": "code",
   "execution_count": 17,
   "metadata": {},
   "outputs": [],
   "source": [
    "from keras.layers import Conv2D, MaxPooling2D, Input\n",
    "import keras\n",
    "input_img = Input(shape=(256, 256, 3))\n",
    "\n",
    "tower_1 = Conv2D(64, (1, 1), padding='same', activation='relu')(input_img)\n",
    "tower_1 = Conv2D(64, (3, 3), padding='same', activation='relu')(tower_1)\n",
    "\n",
    "tower_2 = Conv2D(64, (1, 1), padding='same', activation='relu')(input_img)\n",
    "tower_2 = Conv2D(64, (5, 5), padding='same', activation='relu')(tower_2)\n",
    "\n",
    "tower_3 = MaxPooling2D((3, 3), strides=(1, 1), padding='same')(input_img)\n",
    "tower_3 = Conv2D(64, (1, 1), padding='same', activation='relu')(tower_3)\n",
    "\n",
    "output = keras.layers.concatenate([tower_1, tower_2, tower_3], axis=1)"
   ]
  },
  {
   "cell_type": "code",
   "execution_count": 18,
   "metadata": {},
   "outputs": [],
   "source": [
    "model = Model(inputs=input_img, outputs=output)\n",
    ""
   ]
  },
  {
   "cell_type": "code",
   "execution_count": 19,
   "metadata": {},
   "outputs": [],
   "source": [
    "model = Sequential()\n",
    "model.add(Dense(32, activation='relu', input_dim=100))\n",
    "model.add(Dense(1, activation='sigmoid'))"
   ]
  },
  {
   "cell_type": "code",
   "execution_count": 20,
   "metadata": {},
   "outputs": [
    {
     "output_type": "stream",
     "name": "stdout",
     "text": "Model: \"sequential_16\"\n_________________________________________________________________\nLayer (type)                 Output Shape              Param #   \n=================================================================\ndense_11 (Dense)             (None, 32)                3232      \n_________________________________________________________________\ndense_12 (Dense)             (None, 1)                 33        \n=================================================================\nTotal params: 3,265\nTrainable params: 3,265\nNon-trainable params: 0\n_________________________________________________________________\n"
    }
   ],
   "source": [
    "model.summary()"
   ]
  },
  {
   "cell_type": "code",
   "execution_count": null,
   "metadata": {},
   "outputs": [],
   "source": []
  }
 ],
 "metadata": {
  "colab": {
   "name": "CNN-計算參數量.ipynb",
   "provenance": [],
   "version": "0.3.2"
  },
  "kernelspec": {
   "display_name": "Python 3",
   "language": "python",
   "name": "python3"
  },
  "language_info": {
   "codemirror_mode": {
    "name": "ipython",
    "version": 3
   },
   "file_extension": ".py",
   "mimetype": "text/x-python",
   "name": "python",
   "nbconvert_exporter": "python",
   "pygments_lexer": "ipython3",
   "version": "3.7.3-final"
  }
 },
 "nbformat": 4,
 "nbformat_minor": 1
}